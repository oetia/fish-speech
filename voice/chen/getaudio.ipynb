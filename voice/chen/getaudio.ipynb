{
 "cells": [
  {
   "cell_type": "code",
   "execution_count": 3,
   "id": "48cef18d",
   "metadata": {},
   "outputs": [
    {
     "name": "stdout",
     "output_type": "stream",
     "text": [
      "Downloading CN_044.mp3...\n"
     ]
    }
   ],
   "source": [
    "import requests\n",
    "# for i in range(36, 45):\n",
    "for i in range(44, 45):\n",
    "  url = f\"https://raw.githubusercontent.com/Aceship/Arknight-voices/main/voice_cn/char_010_chen/CN_0{str(i).zfill(2)}.mp3\"\n",
    "  file_name = url.split('/')[-1]\n",
    "  print(f\"Downloading {file_name}...\")\n",
    "  r = requests.get(url)\n",
    "  if r.status_code == 200:\n",
    "    with open(\"./aceship/\" + file_name, 'wb') as f:\n",
    "      f.write(r.content)\n",
    "  else:\n",
    "    print(f\"Tch. Failed to download {file_name}. Status code: {r.status_code}\")"
   ]
  },
  {
   "cell_type": "code",
   "execution_count": 4,
   "id": "c7fccb69",
   "metadata": {},
   "outputs": [],
   "source": [
    "for idx, line in enumerate(open(\"./aceship/all_lines.txt\").readlines()):\n",
    "  line = line.strip()\n",
    "  with open(f\"./aceship/CN_0{str(idx+1).zfill(2)}.txt\", \"w+\") as f:\n",
    "    f.write(line)"
   ]
  }
 ],
 "metadata": {
  "kernelspec": {
   "display_name": "paddle",
   "language": "python",
   "name": "python3"
  },
  "language_info": {
   "codemirror_mode": {
    "name": "ipython",
    "version": 3
   },
   "file_extension": ".py",
   "mimetype": "text/x-python",
   "name": "python",
   "nbconvert_exporter": "python",
   "pygments_lexer": "ipython3",
   "version": "3.12.4"
  }
 },
 "nbformat": 4,
 "nbformat_minor": 5
}
