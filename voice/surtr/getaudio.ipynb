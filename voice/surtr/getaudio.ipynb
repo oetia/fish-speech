{
 "cells": [
  {
   "cell_type": "code",
   "execution_count": 2,
   "id": "48cef18d",
   "metadata": {},
   "outputs": [
    {
     "name": "stdout",
     "output_type": "stream",
     "text": [
      "Downloading CN_021.mp3...\n",
      "Downloading CN_022.mp3...\n",
      "Downloading CN_023.mp3...\n",
      "Downloading CN_024.mp3...\n",
      "Downloading CN_025.mp3...\n",
      "Downloading CN_026.mp3...\n",
      "Downloading CN_027.mp3...\n",
      "Downloading CN_028.mp3...\n",
      "Downloading CN_029.mp3...\n",
      "Downloading CN_030.mp3...\n",
      "Downloading CN_031.mp3...\n",
      "Downloading CN_032.mp3...\n",
      "Downloading CN_033.mp3...\n",
      "Downloading CN_034.mp3...\n",
      "Downloading CN_035.mp3...\n",
      "Tch. Failed to download CN_035.mp3. Status code: 404\n",
      "Downloading CN_036.mp3...\n",
      "Downloading CN_037.mp3...\n",
      "Downloading CN_038.mp3...\n",
      "Downloading CN_039.mp3...\n",
      "Tch. Failed to download CN_039.mp3. Status code: 404\n",
      "Downloading CN_040.mp3...\n",
      "Tch. Failed to download CN_040.mp3. Status code: 404\n",
      "Downloading CN_041.mp3...\n",
      "Tch. Failed to download CN_041.mp3. Status code: 404\n",
      "Downloading CN_042.mp3...\n",
      "Downloading CN_043.mp3...\n",
      "Tch. Failed to download CN_043.mp3. Status code: 404\n",
      "Downloading CN_044.mp3...\n"
     ]
    }
   ],
   "source": [
    "import requests\n",
    "# for i in range(0, 45):\n",
    "for i in range(21, 45):\n",
    "  url = f\"https://raw.githubusercontent.com/Aceship/Arknight-voices/main/voice/char_350_surtr/CN_0{str(i).zfill(2)}.mp3\"\n",
    "\n",
    "  file_name = url.split('/')[-1]\n",
    "  print(f\"Downloading {file_name}...\")\n",
    "  r = requests.get(url)\n",
    "  if r.status_code == 200:\n",
    "    with open(\"./aceship/\" + file_name, 'wb') as f:\n",
    "      f.write(r.content)\n",
    "  else:\n",
    "    print(f\"Tch. Failed to download {file_name}. Status code: {r.status_code}\")"
   ]
  },
  {
   "cell_type": "code",
   "execution_count": 4,
   "id": "c7fccb69",
   "metadata": {},
   "outputs": [],
   "source": [
    "for idx, line in enumerate(open(\"./aceship/all_lines.txt\").readlines()):\n",
    "  line = line.strip()\n",
    "  with open(f\"./aceship/CN_0{str(idx+1).zfill(2)}.txt\", \"w+\") as f:\n",
    "    f.write(line)"
   ]
  },
  {
   "cell_type": "code",
   "execution_count": 2,
   "id": "0d591e6d",
   "metadata": {},
   "outputs": [],
   "source": [
    "import pandas as pd"
   ]
  },
  {
   "cell_type": "code",
   "execution_count": 3,
   "id": "d7afba25",
   "metadata": {},
   "outputs": [
    {
     "data": {
      "text/html": [
       "<div>\n",
       "<style scoped>\n",
       "    .dataframe tbody tr th:only-of-type {\n",
       "        vertical-align: middle;\n",
       "    }\n",
       "\n",
       "    .dataframe tbody tr th {\n",
       "        vertical-align: top;\n",
       "    }\n",
       "\n",
       "    .dataframe thead th {\n",
       "        text-align: right;\n",
       "    }\n",
       "</style>\n",
       "<table border=\"1\" class=\"dataframe\">\n",
       "  <thead>\n",
       "    <tr style=\"text-align: right;\">\n",
       "      <th></th>\n",
       "      <th>Context</th>\n",
       "      <th>VoiceLine</th>\n",
       "    </tr>\n",
       "  </thead>\n",
       "  <tbody>\n",
       "    <tr>\n",
       "      <th>0</th>\n",
       "      <td>秘書任命</td>\n",
       "      <td>あんた、自分の仕事も全うできないからって、私に助けろっていうの？</td>\n",
       "    </tr>\n",
       "    <tr>\n",
       "      <th>1</th>\n",
       "      <td>会話1</td>\n",
       "      <td>他人の指導役はもうごめんだ。一般人たちと雁首揃えてアーツごっこするなんて興味ない。</td>\n",
       "    </tr>\n",
       "    <tr>\n",
       "      <th>2</th>\n",
       "      <td>会話2</td>\n",
       "      <td>私がここに留まってるのは必要だからじゃない、そうしたいからだ。</td>\n",
       "    </tr>\n",
       "    <tr>\n",
       "      <th>3</th>\n",
       "      <td>会話3</td>\n",
       "      <td>何でもすぐどうしてって聞く奴が一番ムカつく。あんたがそうじゃないことを願うよ。</td>\n",
       "    </tr>\n",
       "    <tr>\n",
       "      <th>4</th>\n",
       "      <td>昇進後会話1</td>\n",
       "      <td>私のアーツを少しは理解できたようだな。ならばその危うさも覚えておくといいよ。</td>\n",
       "    </tr>\n",
       "  </tbody>\n",
       "</table>\n",
       "</div>"
      ],
      "text/plain": [
       "  Context                                  VoiceLine\n",
       "0    秘書任命           あんた、自分の仕事も全うできないからって、私に助けろっていうの？\n",
       "1     会話1  他人の指導役はもうごめんだ。一般人たちと雁首揃えてアーツごっこするなんて興味ない。\n",
       "2     会話2            私がここに留まってるのは必要だからじゃない、そうしたいからだ。\n",
       "3     会話3    何でもすぐどうしてって聞く奴が一番ムカつく。あんたがそうじゃないことを願うよ。\n",
       "4  昇進後会話1     私のアーツを少しは理解できたようだな。ならばその危うさも覚えておくといいよ。"
      ]
     },
     "execution_count": 3,
     "metadata": {},
     "output_type": "execute_result"
    }
   ],
   "source": [
    "df = pd.read_csv(\"./voicelines.csv\")\n",
    "df.head()"
   ]
  },
  {
   "cell_type": "code",
   "execution_count": 4,
   "id": "6a1ed2c5",
   "metadata": {},
   "outputs": [
    {
     "data": {
      "text/plain": [
       "['あんた、自分の仕事も全うできないからって、私に助けろっていうの？',\n",
       " '他人の指導役はもうごめんだ。一般人たちと雁首揃えてアーツごっこするなんて興味ない。',\n",
       " '私がここに留まってるのは必要だからじゃない、そうしたいからだ。',\n",
       " '何でもすぐどうしてって聞く奴が一番ムカつく。あんたがそうじゃないことを願うよ。',\n",
       " '私のアーツを少しは理解できたようだな。ならばその危うさも覚えておくといいよ。',\n",
       " '気がつくと、アーツの力もこのアーツユニットも手の中にあった。この力を手に入れた時のことは全く覚えてないが、もちろんそんなこと気にしたこともない。',\n",
       " '私にはいろんな記憶がある。どうやってその記憶を宿したのか、どれが本物の自分の記憶なのか、全然わからない。その記憶の出どころを探し出すために国々を渡り歩いているが、今はロドスに落ち着いたところだ。',\n",
       " '私を混乱する記憶の渦から救い出し落ち着かせてくれるのは、アイスクリームをおいて他にない。これまで一人だった頃は、いつも助けられていた。',\n",
       " 'ロドスでの記憶はこれまでと違ってすごくリアルな感じがして、自分が自分であることを初めて実感させてくれた。これも全部あんたやロドスのみんなのおかげだ。……何よ、感謝すべきことは私もちゃんと言うから。',\n",
       " 'チッ、時間の無駄。',\n",
       " '私はスルト、あんたが噂のドクター？これからはロドスで働かせてもらうことになってるから、退屈させないで。',\n",
       " 'それだけ？',\n",
       " '私の実力を見て、やっと大事にしようって思い始めたわけ？',\n",
       " '力ではなく私自身を評価してるから？そうか。そこまで言うなら、こちらも相応の努力で応えよう。',\n",
       " '私が必要か。',\n",
       " '私一人で十分だ。',\n",
       " '出発だ。',\n",
       " '奴らが今回の殲滅対象か。',\n",
       " '私に指図するな。',\n",
       " '言われなくてもわかってる。',\n",
       " '悪くない場所だ。',\n",
       " '行くよ！',\n",
       " '死ね！',\n",
       " '一匹も逃げられると思うな！',\n",
       " 'レーヴァテイン！',\n",
       " '愚か者！',\n",
       " 'ふんっ、話にならない。',\n",
       " 'あったりまえだ。',\n",
       " 'こんな簡単なこともできないのか。',\n",
       " '役立たず共は引っ込んでろ！ここは私がやる。',\n",
       " 'まぁまぁきれいな部屋かな。',\n",
       " '自分で歩けるから。',\n",
       " '静かにして。',\n",
       " 'アークナイツ。',\n",
       " 'ああ、ここにいたか。']"
      ]
     },
     "execution_count": 4,
     "metadata": {},
     "output_type": "execute_result"
    }
   ],
   "source": [
    "df[\"VoiceLine\"].to_list()"
   ]
  }
 ],
 "metadata": {
  "kernelspec": {
   "display_name": "fish-speech",
   "language": "python",
   "name": "python3"
  },
  "language_info": {
   "codemirror_mode": {
    "name": "ipython",
    "version": 3
   },
   "file_extension": ".py",
   "mimetype": "text/x-python",
   "name": "python",
   "nbconvert_exporter": "python",
   "pygments_lexer": "ipython3",
   "version": "3.10.16"
  }
 },
 "nbformat": 4,
 "nbformat_minor": 5
}
